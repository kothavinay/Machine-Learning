{
 "cells": [
  {
   "cell_type": "markdown",
   "id": "c8dd2755",
   "metadata": {},
   "source": [
    "# Abstract"
   ]
  },
  {
   "cell_type": "markdown",
   "id": "8d1370d6",
   "metadata": {},
   "source": [
    "Since there is currently no treatment for diabetes, early identification is essential. In our study, we apply data mining and machine learning (ML) algorithms to predict diabetes. We used the national diabetes statistics report to get the fast facts on diabetes. This entire data report is collected from center from disease control and prevention. We used one of the best techniques in machine learning like MLP classifier, Decision trees and random forest to get the Diabetes prediction. We'll analyze this dataset and derive some insightful conclusions from it. I'll get the data ready for analysis and visualization. Prior to building machine learning on top of this dataset, we will clean the dataset first. Then, we will make graphs and charts to extract useful insights from the dataset."
   ]
  },
  {
   "cell_type": "markdown",
   "id": "d9ac7c71",
   "metadata": {},
   "source": [
    "# Introduction"
   ]
  },
  {
   "cell_type": "markdown",
   "id": "1213a596",
   "metadata": {},
   "source": [
    "According to the WHO (World Health Organization), 1.6 million individuals worldwide lose their lives to diabetes each year [1]. One condition that develops when blood glucose/blood sugar levels are extremely high in the body is diabetes. Diabetes, according to medical professionals, is a condition in which the pancreas of the human body either cannot create enough insulin (Type 1 diabetes) or the insulin that is produced cannot be used by the body's cells (Type 2 diabetes) [2]. Due to high blood sugar, some symptom arises in the human body, such as extreme hunger, intense thirst, and frequent urination. The usual range of glucose levels in the human body is 70 to 99 mg per deciliter. If the glucose level is more than 126 mg/dl, it indicates diabetes. A person is considered to have prediabetes if body glucose concentration is 100 to 125 mg/dl [3]. If the human body’s blood sugar level becomes too high, the impending complications can be heart disease, kidney failure, stroke, and nerve damage [4], [5]. There is no permanent cure for diabetes [6]. The healthcare sector gathers a vast quantity of data, including hospital records, patient medical information, and examination findings. A doctor's expertise and knowledge are used to examine the illness's forecast for early disease diagnosis, although this analysis is prone to error. The manual judgments can therefore be concerning. Patients may not receive the proper care as a result of the hidden pattern of data going overlooked, which can affect decision-making. The early detection of diabetes requires automated [7] [8].In the past several years, technologies for data mining and machine learning have become more dependable and supportive in the medical field. The machine learning approach aids in automating diabetes prediction, and the data mining method is utilized to preprocess and pick the pertinent characteristics from the healthcare data. Using the most recent technique, data mining and machine learning algorithms can assist in uncovering the data's underlying pattern, enabling accurate decisions to be made with high reliability. In order to find a pattern among the enormous quantity of dataset, data mining uses a number of approaches, including machine learning, statistics, and database systems. Nvidia claims that machine learning makes predictions by using a variety of algorithms to learn from parsed data [9].\n",
    "\n",
    "\n",
    "[1] https://www.who.int/health-topics/diabetes.\n",
    "Google Scholar\n",
    "\n",
    "[2]https://www.medicalnewstoday.com/articles/325018#how-is-the-pancreas-linked-with-diabetes.\n",
    "\n",
    "Google Scholar \n",
    "[3] https://www.mayoclinic.org/diseases-conditions/prediabetes/diagnosis-treatment/drc-20355284.\n",
    "Google Scholar\n",
    "\n",
    "[4] https://www.niddk.nih.gov/healthinformation/diabetes/overview/symptoms-causes.\n",
    "Google Scholar\n",
    "\n",
    "[5] https://www.diabetes.co.uk/diabetes_care/blood-sugar-level-ranges.html.\n",
    "Google Scholar\n",
    "\n",
    "[6] https://www.healthgrades.com/right-care/diabetes/is-there-a-cure-for-diabetes.\n",
    "\n",
    "[7] Huang C.L., Chen M.C., Wang C.J.\n",
    "Credit scoring with a data mining approach based on support vector machines\n",
    "Expert Syst. Appl., 33 (4) (2007), pp. 847-856, 10.1016/j.eswa.2006.07.007\n",
    "ArticleDownload PDFView Record in ScopusGoogle Scholar\n",
    "\n",
    "[8] Chaki J., Thillai Ganesh S., Cidham S.K., Ananda Theertan S.\n",
    "Machine learning and artificial intelligence-based diabetes mellitus detection and self-management: A systematic review\n",
    "J. King Saud Univ. - Comput. Inf. Sci. (2020)\n",
    "\n",
    "[9] Contreras I., Vehi J.\n",
    "Artificial intelligence for diabetes management and decision support: Literature review\n",
    "J. Med. Internet Res., 20 (5) (2018), Article e10775"
   ]
  },
  {
   "cell_type": "markdown",
   "id": "67c7481a",
   "metadata": {},
   "source": [
    "# Literature Review"
   ]
  },
  {
   "cell_type": "markdown",
   "id": "a0e4ebf4",
   "metadata": {},
   "source": [
    "In order to design a system that can do early diabetes prediction for a patient with a greater degree of accuracy, K.Vijiya Kumar et al. [2] suggested random Forest algorithm. This system makes use of machine learning techniques and the Random Forest algorithm. The results demonstrated that the prediction system is capable of accurately, quickly, and most significantly, instantly forecasting the diabetes disease. The suggested model delivers the best results for diabetic prediction. Using an ensemble supervised learning methodology, Nonso Nnamoko et al. [5] demonstrated their method for predicting the onset of diabetes. A meta-classifier is utilized to combine the outputs of the five extensively used classifiers that are used for the ensembles.\n",
    "The findings are discussed and contrasted with those of similar research that used the same dataset in the literature. It is demonstrated that diabetes onset prediction may be carried out more precisely when the suggested method is used. \n",
    "Diabetes Prediction Using Machine Learning Techniques, published by N. Joshi et al. [4], uses three supervised machine learning techniques, including SVM, Logistic Regression, and ANN, to predict diabetes. An efficient method for the earlier diagnosis of the diabetic condition is proposed in this study. Deeraj Shetty et al. [6] proposed a method for predicting diabetes disease using data mining to create an intelligent system for diabetes disease prediction that analyzes diabetic disorders using a database of diabetes patients. \n",
    "They suggest applying algorithms like Bayesian and KNN (K-Nearest Neighbor) to a database of diabetes patients in this system, where they will be analyzed in order to forecast the development of the condition. In their study on the prediction of diabetes using machine learning algorithms in healthcare, Muhammad Azeem Sarwar et al. [3] used six different machine learning algorithms. It is discussed and contrasted how well the used algorithms perform. Which algorithm is most suitable for diabetes prediction may be determined by comparing the various machine learning approaches employed in this study. In order to train the algorithm to determine if a patient has diabetes or not by applying the right classifier to the dataset, diabetes prediction is increasingly attracting the attention of academics.\n",
    "\n",
    "References:\n",
    "1.\tDebadri Dutta, Debpriyo Paul, Parthajeet Ghosh, \"Analyzing Feature Importances for Diabetes Prediction using Machine Learning\". IEEE, pp 942-928, 2018.\n",
    "\n",
    "2.\tK.VijiyaKumar, B.Lavanya, I.Nirmala, S.Sofia Caroline, \"Random Forest Algorithm for the Prediction of Diabetes \".Proceeding of International Conference on Systems Compu- tation Automation and Networking, 2019.\n",
    "\n",
    "3.\tMd. Faisal Faruque, Asaduzzaman, Iqbal H. Sarker, \"Perfor- mance Analysis of Machine Learning Techniques to Predict Diabetes Mellitus\". International Conference on Electrical, Computer and Communication Engineering (ECCE), 7-9 Feb- ruary, 2019.\n",
    "\n",
    "4.\tTejas N. Joshi, Prof. Pramila M. Chawan, \"Diabetes Prediction Using Machine Learning Techniques\".Int. Journal of Engineer- ing Research and Application, Vol. 8, Issue 1, (Part -II) Janu- ary 2018, pp.-09-13\n",
    "\n",
    "5.\tNonso Nnamoko, Abir Hussain, David England, \"Predicting Diabetes Onset: an Ensemble Supervised Learning Approach \". IEEE Congress on Evolutionary Computation (CEC), 2018.\n",
    "\n",
    "6.\tDeeraj Shetty, Kishor Rit, Sohail Shaikh, Nikita Patil, \"Diabe- tes Disease Prediction Using Data Mining \".International Con- ference on Innovations in Information, Embedded and Com- munication Systems (ICIIECS), 2017.\n",
    "\n",
    "7.\tNahla B., Andrew et al,\"Intelligible support vector machines for diagnosis of diabetes mellitus. Information Technology in Biomedicine\", IEEE Transactions. 14, (July. 2010), 1114-20.\n",
    "\n",
    "8.\tA.K., Dewangan, and P., Agrawal, Classification of Diabetes Mellitus Using Machine Learning Techniques, International Journal of Engineering and Applied Sciences, vol. 2, 2015.\n"
   ]
  },
  {
   "cell_type": "markdown",
   "id": "e5c0256c",
   "metadata": {},
   "source": [
    "# Research Question"
   ]
  },
  {
   "cell_type": "markdown",
   "id": "fe39e36d",
   "metadata": {},
   "source": [
    "How Pregnancies,Age,Glucose,BMI,Blood Pressure factors influence and effect the person causing diabetes."
   ]
  },
  {
   "cell_type": "markdown",
   "id": "201391f2",
   "metadata": {},
   "source": [
    "# Importing Libraries"
   ]
  },
  {
   "cell_type": "code",
   "execution_count": 3,
   "id": "a68b1ab3",
   "metadata": {},
   "outputs": [],
   "source": [
    "# Importing libraries\n",
    "import pandas as pd\n",
    "import numpy as np\n",
    "from sklearn.tree import DecisionTreeClassifier\n",
    "from sklearn.neural_network import MLPClassifier\n",
    "from sklearn.metrics import accuracy_score\n",
    "from sklearn.ensemble import GradientBoostingClassifier\n",
    "from sklearn.ensemble import VotingClassifier\n",
    "from sklearn.model_selection import cross_val_score\n",
    "from sklearn.ensemble import RandomForestClassifier\n",
    "import numpy as np # linear algebra\n",
    "import pandas as pd # data processing, CSV file I/O (e.g. pd.read_csv)\n",
    "import matplotlib.pyplot as plt"
   ]
  },
  {
   "cell_type": "markdown",
   "id": "6fae00f7",
   "metadata": {},
   "source": [
    "# Data Collection"
   ]
  },
  {
   "cell_type": "markdown",
   "id": "058c65c8",
   "metadata": {},
   "source": [
    "The dataset used in this report are collected from the below provided website link\n",
    "\n",
    "https://archive.ics.uci.edu/ml/datasets/diabetes"
   ]
  },
  {
   "cell_type": "markdown",
   "id": "5253e0d9",
   "metadata": {},
   "source": [
    "### Dataset Description"
   ]
  },
  {
   "cell_type": "markdown",
   "id": "5a68fc05",
   "metadata": {},
   "source": [
    "The different columns present in the dataset are:\n",
    "\n",
    "* Pregnancies -> Number of times Pregnant\n",
    "\n",
    "* Glucose -> Plasma glucose concentration\n",
    "\n",
    "* BloodPressure -> Diastolic blood pressure (mm Hg)\n",
    "\n",
    "* SkinThickness -> Triceps skin fold thickness (mm)\n",
    "\n",
    "* Insulin -> 2-Hour serum insulin (mu U/ml)\n",
    "\n",
    "* BMI -> Body Mass Index\n",
    "\n",
    "* DiabetesPedigreeFunction -> Diabetes pedigree function\n",
    "\n",
    "* Age -> Age in years\n",
    "\n",
    "* Outcome -> Whether the lady is diabetic or not, 0 represents the person is not diabetic and 1 represents that the person is diabetic."
   ]
  },
  {
   "cell_type": "markdown",
   "id": "1a028293",
   "metadata": {},
   "source": [
    "# Exploratory Data Analysis and Data Visualization"
   ]
  },
  {
   "cell_type": "markdown",
   "id": "93ac9b02",
   "metadata": {},
   "source": [
    "In this section, we'll perform some fundamental exploratory data analysis to acquire a \"feel\" for the data. We'll analyze the distributions, correlations, and other properties of the various columns and work to eliminate any null values that may be present."
   ]
  },
  {
   "cell_type": "code",
   "execution_count": 4,
   "id": "b53246f3",
   "metadata": {},
   "outputs": [],
   "source": [
    "df = pd.read_csv('diabetes.csv')"
   ]
  },
  {
   "cell_type": "code",
   "execution_count": 5,
   "id": "048a5158",
   "metadata": {},
   "outputs": [
    {
     "data": {
      "text/html": [
       "<div>\n",
       "<style scoped>\n",
       "    .dataframe tbody tr th:only-of-type {\n",
       "        vertical-align: middle;\n",
       "    }\n",
       "\n",
       "    .dataframe tbody tr th {\n",
       "        vertical-align: top;\n",
       "    }\n",
       "\n",
       "    .dataframe thead th {\n",
       "        text-align: right;\n",
       "    }\n",
       "</style>\n",
       "<table border=\"1\" class=\"dataframe\">\n",
       "  <thead>\n",
       "    <tr style=\"text-align: right;\">\n",
       "      <th></th>\n",
       "      <th>Pregnancies</th>\n",
       "      <th>Glucose</th>\n",
       "      <th>BloodPressure</th>\n",
       "      <th>SkinThickness</th>\n",
       "      <th>Insulin</th>\n",
       "      <th>BMI</th>\n",
       "      <th>DiabetesPedigreeFunction</th>\n",
       "      <th>Age</th>\n",
       "      <th>Outcome</th>\n",
       "    </tr>\n",
       "  </thead>\n",
       "  <tbody>\n",
       "    <tr>\n",
       "      <th>0</th>\n",
       "      <td>6</td>\n",
       "      <td>148</td>\n",
       "      <td>72</td>\n",
       "      <td>35</td>\n",
       "      <td>0</td>\n",
       "      <td>33.6</td>\n",
       "      <td>0.627</td>\n",
       "      <td>50</td>\n",
       "      <td>1</td>\n",
       "    </tr>\n",
       "    <tr>\n",
       "      <th>1</th>\n",
       "      <td>1</td>\n",
       "      <td>85</td>\n",
       "      <td>66</td>\n",
       "      <td>29</td>\n",
       "      <td>0</td>\n",
       "      <td>26.6</td>\n",
       "      <td>0.351</td>\n",
       "      <td>31</td>\n",
       "      <td>0</td>\n",
       "    </tr>\n",
       "    <tr>\n",
       "      <th>2</th>\n",
       "      <td>8</td>\n",
       "      <td>183</td>\n",
       "      <td>64</td>\n",
       "      <td>0</td>\n",
       "      <td>0</td>\n",
       "      <td>23.3</td>\n",
       "      <td>0.672</td>\n",
       "      <td>32</td>\n",
       "      <td>1</td>\n",
       "    </tr>\n",
       "    <tr>\n",
       "      <th>3</th>\n",
       "      <td>1</td>\n",
       "      <td>89</td>\n",
       "      <td>66</td>\n",
       "      <td>23</td>\n",
       "      <td>94</td>\n",
       "      <td>28.1</td>\n",
       "      <td>0.167</td>\n",
       "      <td>21</td>\n",
       "      <td>0</td>\n",
       "    </tr>\n",
       "    <tr>\n",
       "      <th>4</th>\n",
       "      <td>0</td>\n",
       "      <td>137</td>\n",
       "      <td>40</td>\n",
       "      <td>35</td>\n",
       "      <td>168</td>\n",
       "      <td>43.1</td>\n",
       "      <td>2.288</td>\n",
       "      <td>33</td>\n",
       "      <td>1</td>\n",
       "    </tr>\n",
       "  </tbody>\n",
       "</table>\n",
       "</div>"
      ],
      "text/plain": [
       "   Pregnancies  Glucose  BloodPressure  SkinThickness  Insulin   BMI  \\\n",
       "0            6      148             72             35        0  33.6   \n",
       "1            1       85             66             29        0  26.6   \n",
       "2            8      183             64              0        0  23.3   \n",
       "3            1       89             66             23       94  28.1   \n",
       "4            0      137             40             35      168  43.1   \n",
       "\n",
       "   DiabetesPedigreeFunction  Age  Outcome  \n",
       "0                     0.627   50        1  \n",
       "1                     0.351   31        0  \n",
       "2                     0.672   32        1  \n",
       "3                     0.167   21        0  \n",
       "4                     2.288   33        1  "
      ]
     },
     "execution_count": 5,
     "metadata": {},
     "output_type": "execute_result"
    }
   ],
   "source": [
    "df.head()"
   ]
  },
  {
   "cell_type": "code",
   "execution_count": 6,
   "id": "18f0d933",
   "metadata": {},
   "outputs": [
    {
     "name": "stdout",
     "output_type": "stream",
     "text": [
      "<class 'pandas.core.frame.DataFrame'>\n",
      "RangeIndex: 768 entries, 0 to 767\n",
      "Data columns (total 9 columns):\n",
      " #   Column                    Non-Null Count  Dtype  \n",
      "---  ------                    --------------  -----  \n",
      " 0   Pregnancies               768 non-null    int64  \n",
      " 1   Glucose                   768 non-null    int64  \n",
      " 2   BloodPressure             768 non-null    int64  \n",
      " 3   SkinThickness             768 non-null    int64  \n",
      " 4   Insulin                   768 non-null    int64  \n",
      " 5   BMI                       768 non-null    float64\n",
      " 6   DiabetesPedigreeFunction  768 non-null    float64\n",
      " 7   Age                       768 non-null    int64  \n",
      " 8   Outcome                   768 non-null    int64  \n",
      "dtypes: float64(2), int64(7)\n",
      "memory usage: 54.1 KB\n"
     ]
    }
   ],
   "source": [
    "df.info()"
   ]
  },
  {
   "cell_type": "code",
   "execution_count": 7,
   "id": "890a70b9",
   "metadata": {},
   "outputs": [
    {
     "data": {
      "text/html": [
       "<div>\n",
       "<style scoped>\n",
       "    .dataframe tbody tr th:only-of-type {\n",
       "        vertical-align: middle;\n",
       "    }\n",
       "\n",
       "    .dataframe tbody tr th {\n",
       "        vertical-align: top;\n",
       "    }\n",
       "\n",
       "    .dataframe thead th {\n",
       "        text-align: right;\n",
       "    }\n",
       "</style>\n",
       "<table border=\"1\" class=\"dataframe\">\n",
       "  <thead>\n",
       "    <tr style=\"text-align: right;\">\n",
       "      <th></th>\n",
       "      <th>count</th>\n",
       "      <th>mean</th>\n",
       "      <th>std</th>\n",
       "      <th>min</th>\n",
       "      <th>25%</th>\n",
       "      <th>50%</th>\n",
       "      <th>75%</th>\n",
       "      <th>max</th>\n",
       "    </tr>\n",
       "  </thead>\n",
       "  <tbody>\n",
       "    <tr>\n",
       "      <th>Pregnancies</th>\n",
       "      <td>768.0</td>\n",
       "      <td>3.845052</td>\n",
       "      <td>3.369578</td>\n",
       "      <td>0.000</td>\n",
       "      <td>1.00000</td>\n",
       "      <td>3.0000</td>\n",
       "      <td>6.00000</td>\n",
       "      <td>17.00</td>\n",
       "    </tr>\n",
       "    <tr>\n",
       "      <th>Glucose</th>\n",
       "      <td>768.0</td>\n",
       "      <td>120.894531</td>\n",
       "      <td>31.972618</td>\n",
       "      <td>0.000</td>\n",
       "      <td>99.00000</td>\n",
       "      <td>117.0000</td>\n",
       "      <td>140.25000</td>\n",
       "      <td>199.00</td>\n",
       "    </tr>\n",
       "    <tr>\n",
       "      <th>BloodPressure</th>\n",
       "      <td>768.0</td>\n",
       "      <td>69.105469</td>\n",
       "      <td>19.355807</td>\n",
       "      <td>0.000</td>\n",
       "      <td>62.00000</td>\n",
       "      <td>72.0000</td>\n",
       "      <td>80.00000</td>\n",
       "      <td>122.00</td>\n",
       "    </tr>\n",
       "    <tr>\n",
       "      <th>SkinThickness</th>\n",
       "      <td>768.0</td>\n",
       "      <td>20.536458</td>\n",
       "      <td>15.952218</td>\n",
       "      <td>0.000</td>\n",
       "      <td>0.00000</td>\n",
       "      <td>23.0000</td>\n",
       "      <td>32.00000</td>\n",
       "      <td>99.00</td>\n",
       "    </tr>\n",
       "    <tr>\n",
       "      <th>Insulin</th>\n",
       "      <td>768.0</td>\n",
       "      <td>79.799479</td>\n",
       "      <td>115.244002</td>\n",
       "      <td>0.000</td>\n",
       "      <td>0.00000</td>\n",
       "      <td>30.5000</td>\n",
       "      <td>127.25000</td>\n",
       "      <td>846.00</td>\n",
       "    </tr>\n",
       "    <tr>\n",
       "      <th>BMI</th>\n",
       "      <td>768.0</td>\n",
       "      <td>31.992578</td>\n",
       "      <td>7.884160</td>\n",
       "      <td>0.000</td>\n",
       "      <td>27.30000</td>\n",
       "      <td>32.0000</td>\n",
       "      <td>36.60000</td>\n",
       "      <td>67.10</td>\n",
       "    </tr>\n",
       "    <tr>\n",
       "      <th>DiabetesPedigreeFunction</th>\n",
       "      <td>768.0</td>\n",
       "      <td>0.471876</td>\n",
       "      <td>0.331329</td>\n",
       "      <td>0.078</td>\n",
       "      <td>0.24375</td>\n",
       "      <td>0.3725</td>\n",
       "      <td>0.62625</td>\n",
       "      <td>2.42</td>\n",
       "    </tr>\n",
       "    <tr>\n",
       "      <th>Age</th>\n",
       "      <td>768.0</td>\n",
       "      <td>33.240885</td>\n",
       "      <td>11.760232</td>\n",
       "      <td>21.000</td>\n",
       "      <td>24.00000</td>\n",
       "      <td>29.0000</td>\n",
       "      <td>41.00000</td>\n",
       "      <td>81.00</td>\n",
       "    </tr>\n",
       "    <tr>\n",
       "      <th>Outcome</th>\n",
       "      <td>768.0</td>\n",
       "      <td>0.348958</td>\n",
       "      <td>0.476951</td>\n",
       "      <td>0.000</td>\n",
       "      <td>0.00000</td>\n",
       "      <td>0.0000</td>\n",
       "      <td>1.00000</td>\n",
       "      <td>1.00</td>\n",
       "    </tr>\n",
       "  </tbody>\n",
       "</table>\n",
       "</div>"
      ],
      "text/plain": [
       "                          count        mean         std     min       25%  \\\n",
       "Pregnancies               768.0    3.845052    3.369578   0.000   1.00000   \n",
       "Glucose                   768.0  120.894531   31.972618   0.000  99.00000   \n",
       "BloodPressure             768.0   69.105469   19.355807   0.000  62.00000   \n",
       "SkinThickness             768.0   20.536458   15.952218   0.000   0.00000   \n",
       "Insulin                   768.0   79.799479  115.244002   0.000   0.00000   \n",
       "BMI                       768.0   31.992578    7.884160   0.000  27.30000   \n",
       "DiabetesPedigreeFunction  768.0    0.471876    0.331329   0.078   0.24375   \n",
       "Age                       768.0   33.240885   11.760232  21.000  24.00000   \n",
       "Outcome                   768.0    0.348958    0.476951   0.000   0.00000   \n",
       "\n",
       "                               50%        75%     max  \n",
       "Pregnancies                 3.0000    6.00000   17.00  \n",
       "Glucose                   117.0000  140.25000  199.00  \n",
       "BloodPressure              72.0000   80.00000  122.00  \n",
       "SkinThickness              23.0000   32.00000   99.00  \n",
       "Insulin                    30.5000  127.25000  846.00  \n",
       "BMI                        32.0000   36.60000   67.10  \n",
       "DiabetesPedigreeFunction    0.3725    0.62625    2.42  \n",
       "Age                        29.0000   41.00000   81.00  \n",
       "Outcome                     0.0000    1.00000    1.00  "
      ]
     },
     "execution_count": 7,
     "metadata": {},
     "output_type": "execute_result"
    }
   ],
   "source": [
    "df.describe().T"
   ]
  },
  {
   "cell_type": "code",
   "execution_count": 8,
   "id": "b3bd989d",
   "metadata": {},
   "outputs": [
    {
     "name": "stderr",
     "output_type": "stream",
     "text": [
      "/Users/kothavinay/opt/anaconda3/lib/python3.9/site-packages/seaborn/_decorators.py:36: FutureWarning: Pass the following variable as a keyword arg: x. From version 0.12, the only valid positional argument will be `data`, and passing other arguments without an explicit keyword will result in an error or misinterpretation.\n",
      "  warnings.warn(\n"
     ]
    },
    {
     "data": {
      "image/png": "[encoded data removed]",
      "text/plain": [
       "<Figure size 432x288 with 1 Axes>"
      ]
     },
     "metadata": {
      "needs_background": "light"
     },
     "output_type": "display_data"
    }
   ],
   "source": [
    "import seaborn as sns\n",
    "from itertools import cycle\n",
    "color_cycle = cycle(plt.rcParams['axes.prop_cycle'].by_key()['color'])\n",
    "\n",
    "sns.countplot(df['Outcome'])\n",
    "plt.show()"
   ]
  },
  {
   "cell_type": "code",
   "execution_count": 9,
   "id": "9855c979",
   "metadata": {},
   "outputs": [
    {
     "data": {
      "text/plain": [
       "0    500\n",
       "1    268\n",
       "Name: Outcome, dtype: int64"
      ]
     },
     "execution_count": 9,
     "metadata": {},
     "output_type": "execute_result"
    }
   ],
   "source": [
    "df['Outcome'].value_counts()"
   ]
  },
  {
   "cell_type": "code",
   "execution_count": 10,
   "id": "cc5e8279",
   "metadata": {},
   "outputs": [
    {
     "data": {
      "image/png": "[encoded data removed]",
      "text/plain": [
       "<Figure size 432x288 with 1 Axes>"
      ]
     },
     "metadata": {},
     "output_type": "display_data"
    }
   ],
   "source": [
    "fig, ax = plt.subplots()\n",
    "\n",
    "labels = ['Diabetic', \n",
    "         'Non-Diabetic']\n",
    "percentages = [34.89, 65.10]\n",
    "explode=(0.1,0)\n",
    "ax.pie(percentages, explode=explode, labels=labels, autopct='%1.0f%%', \n",
    "       shadow=False, startangle=0,   \n",
    "       pctdistance=1.2,labeldistance=1.4)\n",
    "ax.legend(frameon=False, bbox_to_anchor=(1.5,0.8))\n",
    "plt.show()"
   ]
  },
  {
   "cell_type": "code",
   "execution_count": 11,
   "id": "88bce40c",
   "metadata": {},
   "outputs": [
    {
     "name": "stdout",
     "output_type": "stream",
     "text": [
      "The minimum value fore the columns Pregnancies is 0\n",
      "The minimum value fore the columns Glucose is 0\n",
      "The minimum value fore the columns BloodPressure is 0\n",
      "The minimum value fore the columns SkinThickness is 0\n",
      "The minimum value fore the columns Insulin is 0\n",
      "The minimum value fore the columns BMI is 0.0\n",
      "The minimum value fore the columns DiabetesPedigreeFunction is 0.078\n",
      "The minimum value fore the columns Age is 21\n",
      "The minimum value fore the columns Outcome is 0\n"
     ]
    }
   ],
   "source": [
    "for col in df.columns:\n",
    "    print(\"The minimum value fore the columns {} is {}\".format(col, df[col].min()))"
   ]
  },
  {
   "cell_type": "code",
   "execution_count": 46,
   "id": "29f7d1e9",
   "metadata": {},
   "outputs": [
    {
     "data": {
      "image/png": "[encoded data removed]",
      "text/plain": [
       "<Figure size 1080x720 with 8 Axes>"
      ]
     },
     "metadata": {
      "needs_background": "light"
     },
     "output_type": "display_data"
    }
   ],
   "source": [
    "fig, axes = plt.subplots(4, 2, figsize=(15, 10))\n",
    "axes = axes.flatten()\n",
    "ax_idx = 0\n",
    "columns = df.drop('Outcome', axis = 1).columns\n",
    "for col in columns:\n",
    "    df[col].plot(kind = 'hist', ax = axes[ax_idx], title = col, color = next(color_cycle))\n",
    "    ax_idx += 1\n",
    "\n",
    "plt.suptitle('Sales Trend according to Departments')\n",
    "plt.tight_layout()\n",
    "plt.show()"
   ]
  },
  {
   "cell_type": "code",
   "execution_count": 47,
   "id": "1acddfb3",
   "metadata": {},
   "outputs": [
    {
     "name": "stdout",
     "output_type": "stream",
     "text": [
      "Skewness for the column Pregnancies is 0.9016739791518588\n",
      "Skewness for the column Glucose is 0.17375350179188992\n",
      "Skewness for the column BloodPressure is -1.8436079833551302\n",
      "Skewness for the column SkinThickness is 0.10937249648187608\n",
      "Skewness for the column Insulin is 2.272250858431574\n",
      "Skewness for the column BMI is -0.42898158845356543\n",
      "Skewness for the column DiabetesPedigreeFunction is 1.919911066307204\n",
      "Skewness for the column Age is 1.1295967011444805\n"
     ]
    }
   ],
   "source": [
    "from scipy.stats import skew\n",
    "for col in df.drop('Outcome', axis = 1).columns:\n",
    "    print(\"Skewness for the column {} is {}\".format(col, df[col].skew()))"
   ]
  },
  {
   "cell_type": "code",
   "execution_count": 52,
   "id": "7ae846c3",
   "metadata": {},
   "outputs": [
    {
     "data": {
      "image/png": "[encoded data removed]",
      "text/plain": [
       "<Figure size 1080x216 with 1 Axes>"
      ]
     },
     "metadata": {
      "needs_background": "light"
     },
     "output_type": "display_data"
    }
   ],
   "source": [
    "def msv_1(data, thresh = 20, color = 'black', edgecolor = 'black', height = 3, width = 15):\n",
    "    \n",
    "    plt.figure(figsize = (width, height))\n",
    "    percentage = (data.isnull().mean()) * 100\n",
    "    percentage.sort_values(ascending = False).plot.bar(color = color, edgecolor = edgecolor)\n",
    "    plt.axhline(y = thresh, color = 'r', linestyle = '-')\n",
    "    \n",
    "    plt.title('Missing values percentage per column', fontsize=20, weight='bold' )\n",
    "    \n",
    "    plt.text(len(data.isnull().sum()/len(data))/1.7, thresh+2.5, f'Columns with more than {thresh}% missing values', fontsize=12, color='crimson',\n",
    "         ha='left' ,va='top')\n",
    "    plt.text(len(data.isnull().sum()/len(data))/1.7, thresh - 0.5, f'Columns with less than {thresh}% missing values', fontsize=12, color='green',\n",
    "         ha='left' ,va='top')\n",
    "    plt.xlabel('Columns', size=15, weight='bold')\n",
    "    plt.ylabel('Missing values percentage')\n",
    "    plt.yticks(weight ='bold')\n",
    "    \n",
    "    return plt.show()\n",
    "msv_1(df, 20, color=sns.color_palette('Reds',15))"
   ]
  },
  {
   "cell_type": "code",
   "execution_count": 53,
   "id": "25b18151",
   "metadata": {},
   "outputs": [],
   "source": [
    "df[['Glucose', 'BloodPressure', 'SkinThickness', 'Insulin', 'BMI']] = df[['Glucose', 'BloodPressure', 'SkinThickness', 'Insulin', 'BMI']].replace(0, np.nan)"
   ]
  },
  {
   "cell_type": "code",
   "execution_count": 54,
   "id": "74fe8682",
   "metadata": {},
   "outputs": [
    {
     "data": {
      "image/png": "[encoded data removed]",
      "text/plain": [
       "<Figure size 1080x216 with 1 Axes>"
      ]
     },
     "metadata": {
      "needs_background": "light"
     },
     "output_type": "display_data"
    }
   ],
   "source": [
    "msv_1(df, 20, color=sns.color_palette('Reds',15))"
   ]
  },
  {
   "cell_type": "code",
   "execution_count": 57,
   "id": "37f5f615",
   "metadata": {},
   "outputs": [
    {
     "data": {
      "text/plain": [
       "Pregnancies                   0\n",
       "Glucose                       5\n",
       "BloodPressure                35\n",
       "SkinThickness               227\n",
       "Insulin                     374\n",
       "BMI                          11\n",
       "DiabetesPedigreeFunction      0\n",
       "Age                           0\n",
       "Outcome                       0\n",
       "dtype: int64"
      ]
     },
     "execution_count": 57,
     "metadata": {},
     "output_type": "execute_result"
    }
   ],
   "source": [
    "df.isnull().sum()"
   ]
  },
  {
   "cell_type": "markdown",
   "id": "a94b586e",
   "metadata": {},
   "source": [
    "**Columns like Pregnancies, Glucose, BloodPressure, SkinThickness and BMI are not that much skewed. We can fill null values with the mean for these columns, but for columns like Insulin and DiabetesPedigreeFunction, we will have to replace them will median due to the effect of skewness.**"
   ]
  },
  {
   "cell_type": "code",
   "execution_count": 58,
   "id": "edb48c50",
   "metadata": {},
   "outputs": [],
   "source": [
    "df['Insulin'] = df['Insulin'].fillna(df['Insulin'].median()) # Filling null values with the median.\n",
    "\n",
    "for col in ['Glucose', 'BloodPressure', 'SkinThickness', 'BMI']:\n",
    "    df[col] = df[col].fillna(df[col].mean())"
   ]
  },
  {
   "cell_type": "code",
   "execution_count": 59,
   "id": "cbe05576",
   "metadata": {},
   "outputs": [
    {
     "data": {
      "image/png": "[encoded data removed]",
      "text/plain": [
       "<Figure size 1080x216 with 1 Axes>"
      ]
     },
     "metadata": {
      "needs_background": "light"
     },
     "output_type": "display_data"
    }
   ],
   "source": [
    "msv_1(df, 10, color=sns.color_palette('Greens',15))"
   ]
  },
  {
   "cell_type": "code",
   "execution_count": 61,
   "id": "ed3e38a5",
   "metadata": {},
   "outputs": [],
   "source": [
    "def mean_target(var):\n",
    "    \"\"\"\n",
    "    A function that will return the mean values for 'var' column depending on whether the person\n",
    "    is diabetic or not\n",
    "    \"\"\"\n",
    "    return pd.DataFrame(df.groupby('Outcome').mean()[var])"
   ]
  },
  {
   "cell_type": "code",
   "execution_count": 62,
   "id": "1fb36ff4",
   "metadata": {},
   "outputs": [],
   "source": [
    "def distplot(col_name):\n",
    "    \"\"\"\n",
    "    A function that will plot the distribution of column 'col_name' for diabetic and non-diabetic people separately\n",
    "    \"\"\"\n",
    "    plt.figure()\n",
    "    ax = sns.distplot(df[col_name][df.Outcome == 1], color =\"red\", rug = True)\n",
    "    sns.distplot(df[col_name][df.Outcome == 0], color =\"lightblue\",rug = True)\n",
    "    plt.legend(['Diabetes', 'No Diabetes'])"
   ]
  },
  {
   "cell_type": "code",
   "execution_count": 63,
   "id": "2efb9fb4",
   "metadata": {},
   "outputs": [
    {
     "name": "stderr",
     "output_type": "stream",
     "text": [
      "/Users/kothavinay/opt/anaconda3/lib/python3.9/site-packages/seaborn/distributions.py:2619: FutureWarning: `distplot` is a deprecated function and will be removed in a future version. Please adapt your code to use either `displot` (a figure-level function with similar flexibility) or `histplot` (an axes-level function for histograms).\n",
      "  warnings.warn(msg, FutureWarning)\n",
      "/Users/kothavinay/opt/anaconda3/lib/python3.9/site-packages/seaborn/distributions.py:2103: FutureWarning: The `axis` variable is no longer used and will be removed. Instead, assign variables directly to `x` or `y`.\n",
      "  warnings.warn(msg, FutureWarning)\n",
      "/Users/kothavinay/opt/anaconda3/lib/python3.9/site-packages/seaborn/distributions.py:2619: FutureWarning: `distplot` is a deprecated function and will be removed in a future version. Please adapt your code to use either `displot` (a figure-level function with similar flexibility) or `histplot` (an axes-level function for histograms).\n",
      "  warnings.warn(msg, FutureWarning)\n",
      "/Users/kothavinay/opt/anaconda3/lib/python3.9/site-packages/seaborn/distributions.py:2103: FutureWarning: The `axis` variable is no longer used and will be removed. Instead, assign variables directly to `x` or `y`.\n",
      "  warnings.warn(msg, FutureWarning)\n"
     ]
    },
    {
     "data": {
      "image/png": "[encoded data removed]",
      "text/plain": [
       "<Figure size 432x288 with 1 Axes>"
      ]
     },
     "metadata": {
      "needs_background": "light"
     },
     "output_type": "display_data"
    }
   ],
   "source": [
    "distplot('Pregnancies')"
   ]
  },
  {
   "cell_type": "code",
   "execution_count": 64,
   "id": "7bc4f2ab",
   "metadata": {},
   "outputs": [
    {
     "data": {
      "text/html": [
       "<div>\n",
       "<style scoped>\n",
       "    .dataframe tbody tr th:only-of-type {\n",
       "        vertical-align: middle;\n",
       "    }\n",
       "\n",
       "    .dataframe tbody tr th {\n",
       "        vertical-align: top;\n",
       "    }\n",
       "\n",
       "    .dataframe thead th {\n",
       "        text-align: right;\n",
       "    }\n",
       "</style>\n",
       "<table border=\"1\" class=\"dataframe\">\n",
       "  <thead>\n",
       "    <tr style=\"text-align: right;\">\n",
       "      <th></th>\n",
       "      <th>Pregnancies</th>\n",
       "    </tr>\n",
       "    <tr>\n",
       "      <th>Outcome</th>\n",
       "      <th></th>\n",
       "    </tr>\n",
       "  </thead>\n",
       "  <tbody>\n",
       "    <tr>\n",
       "      <th>0</th>\n",
       "      <td>3.298000</td>\n",
       "    </tr>\n",
       "    <tr>\n",
       "      <th>1</th>\n",
       "      <td>4.865672</td>\n",
       "    </tr>\n",
       "  </tbody>\n",
       "</table>\n",
       "</div>"
      ],
      "text/plain": [
       "         Pregnancies\n",
       "Outcome             \n",
       "0           3.298000\n",
       "1           4.865672"
      ]
     },
     "execution_count": 64,
     "metadata": {},
     "output_type": "execute_result"
    }
   ],
   "source": [
    "mean_target('Pregnancies')"
   ]
  },
  {
   "cell_type": "code",
   "execution_count": 65,
   "id": "8e45e771",
   "metadata": {},
   "outputs": [
    {
     "name": "stderr",
     "output_type": "stream",
     "text": [
      "/Users/kothavinay/opt/anaconda3/lib/python3.9/site-packages/seaborn/distributions.py:2619: FutureWarning: `distplot` is a deprecated function and will be removed in a future version. Please adapt your code to use either `displot` (a figure-level function with similar flexibility) or `histplot` (an axes-level function for histograms).\n",
      "  warnings.warn(msg, FutureWarning)\n",
      "/Users/kothavinay/opt/anaconda3/lib/python3.9/site-packages/seaborn/distributions.py:2103: FutureWarning: The `axis` variable is no longer used and will be removed. Instead, assign variables directly to `x` or `y`.\n",
      "  warnings.warn(msg, FutureWarning)\n",
      "/Users/kothavinay/opt/anaconda3/lib/python3.9/site-packages/seaborn/distributions.py:2619: FutureWarning: `distplot` is a deprecated function and will be removed in a future version. Please adapt your code to use either `displot` (a figure-level function with similar flexibility) or `histplot` (an axes-level function for histograms).\n",
      "  warnings.warn(msg, FutureWarning)\n",
      "/Users/kothavinay/opt/anaconda3/lib/python3.9/site-packages/seaborn/distributions.py:2103: FutureWarning: The `axis` variable is no longer used and will be removed. Instead, assign variables directly to `x` or `y`.\n",
      "  warnings.warn(msg, FutureWarning)\n"
     ]
    },
    {
     "data": {
      "image/png": "[encoded data removed]",
      "text/plain": [
       "<Figure size 432x288 with 1 Axes>"
      ]
     },
     "metadata": {
      "needs_background": "light"
     },
     "output_type": "display_data"
    }
   ],
   "source": [
    "distplot('Insulin')"
   ]
  },
  {
   "cell_type": "code",
   "execution_count": 66,
   "id": "0ac20de0",
   "metadata": {},
   "outputs": [
    {
     "data": {
      "text/html": [
       "<div>\n",
       "<style scoped>\n",
       "    .dataframe tbody tr th:only-of-type {\n",
       "        vertical-align: middle;\n",
       "    }\n",
       "\n",
       "    .dataframe tbody tr th {\n",
       "        vertical-align: top;\n",
       "    }\n",
       "\n",
       "    .dataframe thead th {\n",
       "        text-align: right;\n",
       "    }\n",
       "</style>\n",
       "<table border=\"1\" class=\"dataframe\">\n",
       "  <thead>\n",
       "    <tr style=\"text-align: right;\">\n",
       "      <th></th>\n",
       "      <th>Insulin</th>\n",
       "    </tr>\n",
       "    <tr>\n",
       "      <th>Outcome</th>\n",
       "      <th></th>\n",
       "    </tr>\n",
       "  </thead>\n",
       "  <tbody>\n",
       "    <tr>\n",
       "      <th>0</th>\n",
       "      <td>127.792000</td>\n",
       "    </tr>\n",
       "    <tr>\n",
       "      <th>1</th>\n",
       "      <td>164.701493</td>\n",
       "    </tr>\n",
       "  </tbody>\n",
       "</table>\n",
       "</div>"
      ],
      "text/plain": [
       "            Insulin\n",
       "Outcome            \n",
       "0        127.792000\n",
       "1        164.701493"
      ]
     },
     "execution_count": 66,
     "metadata": {},
     "output_type": "execute_result"
    }
   ],
   "source": [
    "mean_target('Insulin')"
   ]
  },
  {
   "cell_type": "code",
   "execution_count": 67,
   "id": "6e4c2f28",
   "metadata": {},
   "outputs": [
    {
     "name": "stderr",
     "output_type": "stream",
     "text": [
      "/Users/kothavinay/opt/anaconda3/lib/python3.9/site-packages/seaborn/distributions.py:2619: FutureWarning: `distplot` is a deprecated function and will be removed in a future version. Please adapt your code to use either `displot` (a figure-level function with similar flexibility) or `histplot` (an axes-level function for histograms).\n",
      "  warnings.warn(msg, FutureWarning)\n",
      "/Users/kothavinay/opt/anaconda3/lib/python3.9/site-packages/seaborn/distributions.py:2103: FutureWarning: The `axis` variable is no longer used and will be removed. Instead, assign variables directly to `x` or `y`.\n",
      "  warnings.warn(msg, FutureWarning)\n",
      "/Users/kothavinay/opt/anaconda3/lib/python3.9/site-packages/seaborn/distributions.py:2619: FutureWarning: `distplot` is a deprecated function and will be removed in a future version. Please adapt your code to use either `displot` (a figure-level function with similar flexibility) or `histplot` (an axes-level function for histograms).\n",
      "  warnings.warn(msg, FutureWarning)\n",
      "/Users/kothavinay/opt/anaconda3/lib/python3.9/site-packages/seaborn/distributions.py:2103: FutureWarning: The `axis` variable is no longer used and will be removed. Instead, assign variables directly to `x` or `y`.\n",
      "  warnings.warn(msg, FutureWarning)\n"
     ]
    },
    {
     "data": {
      "image/png": "[encoded data removed]",
      "text/plain": [
       "<Figure size 432x288 with 1 Axes>"
      ]
     },
     "metadata": {
      "needs_background": "light"
     },
     "output_type": "display_data"
    }
   ],
   "source": [
    "distplot('BloodPressure')"
   ]
  },
  {
   "cell_type": "code",
   "execution_count": 68,
   "id": "ca6ebb56",
   "metadata": {},
   "outputs": [
    {
     "data": {
      "text/html": [
       "<div>\n",
       "<style scoped>\n",
       "    .dataframe tbody tr th:only-of-type {\n",
       "        vertical-align: middle;\n",
       "    }\n",
       "\n",
       "    .dataframe tbody tr th {\n",
       "        vertical-align: top;\n",
       "    }\n",
       "\n",
       "    .dataframe thead th {\n",
       "        text-align: right;\n",
       "    }\n",
       "</style>\n",
       "<table border=\"1\" class=\"dataframe\">\n",
       "  <thead>\n",
       "    <tr style=\"text-align: right;\">\n",
       "      <th></th>\n",
       "      <th>BloodPressure</th>\n",
       "    </tr>\n",
       "    <tr>\n",
       "      <th>Outcome</th>\n",
       "      <th></th>\n",
       "    </tr>\n",
       "  </thead>\n",
       "  <tbody>\n",
       "    <tr>\n",
       "      <th>0</th>\n",
       "      <td>70.935397</td>\n",
       "    </tr>\n",
       "    <tr>\n",
       "      <th>1</th>\n",
       "      <td>75.147324</td>\n",
       "    </tr>\n",
       "  </tbody>\n",
       "</table>\n",
       "</div>"
      ],
      "text/plain": [
       "         BloodPressure\n",
       "Outcome               \n",
       "0            70.935397\n",
       "1            75.147324"
      ]
     },
     "execution_count": 68,
     "metadata": {},
     "output_type": "execute_result"
    }
   ],
   "source": [
    "mean_target('BloodPressure')"
   ]
  },
  {
   "cell_type": "code",
   "execution_count": 69,
   "id": "93735d50",
   "metadata": {},
   "outputs": [
    {
     "name": "stderr",
     "output_type": "stream",
     "text": [
      "/Users/kothavinay/opt/anaconda3/lib/python3.9/site-packages/seaborn/distributions.py:2619: FutureWarning: `distplot` is a deprecated function and will be removed in a future version. Please adapt your code to use either `displot` (a figure-level function with similar flexibility) or `histplot` (an axes-level function for histograms).\n",
      "  warnings.warn(msg, FutureWarning)\n",
      "/Users/kothavinay/opt/anaconda3/lib/python3.9/site-packages/seaborn/distributions.py:2103: FutureWarning: The `axis` variable is no longer used and will be removed. Instead, assign variables directly to `x` or `y`.\n",
      "  warnings.warn(msg, FutureWarning)\n",
      "/Users/kothavinay/opt/anaconda3/lib/python3.9/site-packages/seaborn/distributions.py:2619: FutureWarning: `distplot` is a deprecated function and will be removed in a future version. Please adapt your code to use either `displot` (a figure-level function with similar flexibility) or `histplot` (an axes-level function for histograms).\n",
      "  warnings.warn(msg, FutureWarning)\n",
      "/Users/kothavinay/opt/anaconda3/lib/python3.9/site-packages/seaborn/distributions.py:2103: FutureWarning: The `axis` variable is no longer used and will be removed. Instead, assign variables directly to `x` or `y`.\n",
      "  warnings.warn(msg, FutureWarning)\n"
     ]
    },
    {
     "data": {
      "image/png": "[encoded data removed]",
      "text/plain": [
       "<Figure size 432x288 with 1 Axes>"
      ]
     },
     "metadata": {
      "needs_background": "light"
     },
     "output_type": "display_data"
    }
   ],
   "source": [
    "distplot('Glucose')"
   ]
  },
  {
   "cell_type": "code",
   "execution_count": 70,
   "id": "85949239",
   "metadata": {},
   "outputs": [
    {
     "data": {
      "text/html": [
       "<div>\n",
       "<style scoped>\n",
       "    .dataframe tbody tr th:only-of-type {\n",
       "        vertical-align: middle;\n",
       "    }\n",
       "\n",
       "    .dataframe tbody tr th {\n",
       "        vertical-align: top;\n",
       "    }\n",
       "\n",
       "    .dataframe thead th {\n",
       "        text-align: right;\n",
       "    }\n",
       "</style>\n",
       "<table border=\"1\" class=\"dataframe\">\n",
       "  <thead>\n",
       "    <tr style=\"text-align: right;\">\n",
       "      <th></th>\n",
       "      <th>Glucose</th>\n",
       "    </tr>\n",
       "    <tr>\n",
       "      <th>Outcome</th>\n",
       "      <th></th>\n",
       "    </tr>\n",
       "  </thead>\n",
       "  <tbody>\n",
       "    <tr>\n",
       "      <th>0</th>\n",
       "      <td>110.710121</td>\n",
       "    </tr>\n",
       "    <tr>\n",
       "      <th>1</th>\n",
       "      <td>142.165573</td>\n",
       "    </tr>\n",
       "  </tbody>\n",
       "</table>\n",
       "</div>"
      ],
      "text/plain": [
       "            Glucose\n",
       "Outcome            \n",
       "0        110.710121\n",
       "1        142.165573"
      ]
     },
     "execution_count": 70,
     "metadata": {},
     "output_type": "execute_result"
    }
   ],
   "source": [
    "mean_target('Glucose')"
   ]
  },
  {
   "cell_type": "markdown",
   "id": "9245247d",
   "metadata": {},
   "source": [
    "# Correlation Matrix"
   ]
  },
  {
   "cell_type": "code",
   "execution_count": 71,
   "id": "17da758a",
   "metadata": {},
   "outputs": [
    {
     "data": {
      "text/plain": [
       "<AxesSubplot:>"
      ]
     },
     "execution_count": 71,
     "metadata": {},
     "output_type": "execute_result"
    },
    {
     "data": {
      "image/png": "[encoded data removed]",
      "text/plain": [
       "<Figure size 792x648 with 2 Axes>"
      ]
     },
     "metadata": {
      "needs_background": "light"
     },
     "output_type": "display_data"
    }
   ],
   "source": [
    "corr = df.corr()\n",
    "\n",
    "# Generate a mask for the upper triangle\n",
    "mask = np.triu(np.ones_like(corr, dtype=bool))\n",
    "\n",
    "# Set up the matplotlib figure\n",
    "f, ax = plt.subplots(figsize=(11, 9))\n",
    "\n",
    "# Generate a custom diverging colormap\n",
    "cmap = sns.diverging_palette(230, 20, as_cmap=True)\n",
    "\n",
    "# Draw the heatmap with the mask and correct aspect ratio\n",
    "sns.heatmap(corr, mask=mask, cmap=cmap, vmax=1.0, center=0,\n",
    "            square=True, linewidths=.5, cbar_kws={\"shrink\": .5}, annot = True)"
   ]
  },
  {
   "cell_type": "markdown",
   "id": "45c75715",
   "metadata": {},
   "source": [
    "From the above heatmap, we can observe that all the features are weakly correlated, so that removes multicollinearity out of equation. Multicollinearity (also collinearity) is a phenomenon in which one predictor variable in a multiple regression model can be linearly predicted from the others with a substantial degree of accuracy. "
   ]
  },
  {
   "cell_type": "markdown",
   "id": "ab10d3e6",
   "metadata": {},
   "source": [
    "# Machine Learning Modelling"
   ]
  },
  {
   "cell_type": "markdown",
   "id": "6570bce7",
   "metadata": {},
   "source": [
    "The machine-learning algorithm voting classifier is used to improve the performance of their model and move up the rank ladder. Voting Classifier has various restrictions but can be used for real-world datasets to increase performance.\n",
    "\n",
    "The voting classifier aggregates the predicted class or predicted probability on basis of hard voting or soft voting. So if we feed a variety of base models to the voting classifier it makes sure to resolve the error by any model.\n",
    "\n",
    "It simply aggregates the findings of each classifier passed into Voting Classifier and predicts the output class based on the highest majority of voting. The idea is instead of creating separate dedicated models and finding the accuracy for each them, we create a single model which trains by these models and predicts output based on their combined majority of voting for each output class."
   ]
  },
  {
   "cell_type": "markdown",
   "id": "dd60b223",
   "metadata": {},
   "source": [
    "## Dataset Splitting and Features Scaling"
   ]
  },
  {
   "cell_type": "code",
   "execution_count": 15,
   "id": "3bfa57d4",
   "metadata": {},
   "outputs": [],
   "source": [
    "from sklearn.model_selection import train_test_split"
   ]
  },
  {
   "cell_type": "code",
   "execution_count": 16,
   "id": "4a4ffeab",
   "metadata": {},
   "outputs": [],
   "source": [
    "data=pd.read_csv('diabetes.csv')"
   ]
  },
  {
   "cell_type": "code",
   "execution_count": 17,
   "id": "26250822",
   "metadata": {},
   "outputs": [
    {
     "name": "stdout",
     "output_type": "stream",
     "text": [
      "len of data  768\n"
     ]
    }
   ],
   "source": [
    "x = data.drop('Outcome', axis=1)\n",
    "y = data['Outcome']\n",
    "print('len of data ',len(data))\n",
    "train_x,test_x,train_y,test_y=train_test_split(x,y,test_size=100,random_state=0)"
   ]
  },
  {
   "cell_type": "code",
   "execution_count": 18,
   "id": "4934276e",
   "metadata": {},
   "outputs": [],
   "source": [
    "train_x,test_x,train_y,test_y=train_test_split(x,y,test_size=100,random_state=0)"
   ]
  },
  {
   "cell_type": "markdown",
   "id": "c6d1fcad",
   "metadata": {},
   "source": [
    "## MLP Classifier"
   ]
  },
  {
   "cell_type": "code",
   "execution_count": 19,
   "id": "39e0d779",
   "metadata": {},
   "outputs": [
    {
     "name": "stdout",
     "output_type": "stream",
     "text": [
      "test error 0.31000000000000005\n",
      "training error 0.2529940119760479\n"
     ]
    }
   ],
   "source": [
    "#Set 1:\n",
    "mlp1=MLPClassifier(hidden_layer_sizes=100, activation='relu',solver='adam', alpha=0.001, max_iter=500, learning_rate_init=0.001)\n",
    "mlp1.fit(train_x,train_y)\n",
    "mlp_pred1=mlp1.predict(test_x)\n",
    "pred=mlp1.predict(train_x)\n",
    "print(f\"test error {1-accuracy_score(test_y,mlp_pred1)}\")\n",
    "print(f\"training error {1-accuracy_score(train_y,pred)}\")"
   ]
  },
  {
   "cell_type": "code",
   "execution_count": 20,
   "id": "c510c999",
   "metadata": {},
   "outputs": [
    {
     "name": "stdout",
     "output_type": "stream",
     "text": [
      "test error 0.26\n",
      "training error 0.26347305389221554\n"
     ]
    }
   ],
   "source": [
    "#Set 2:\n",
    "mlp2=MLPClassifier(hidden_layer_sizes=50, activation='logistic',solver='adam', alpha=0.0001, max_iter=300, learning_rate_init=0.01)\n",
    "mlp2.fit(train_x,train_y)\n",
    "mlp_pred2=mlp2.predict(test_x)\n",
    "pred=mlp2.predict(train_x)\n",
    "print(f'test error {1-accuracy_score(test_y,mlp_pred2)}')\n",
    "print(f'training error {1-accuracy_score(train_y,pred)}')"
   ]
  },
  {
   "cell_type": "code",
   "execution_count": 21,
   "id": "f917447c",
   "metadata": {},
   "outputs": [
    {
     "name": "stdout",
     "output_type": "stream",
     "text": [
      "test error 0.26\n",
      "traininig error 0.2889221556886228\n"
     ]
    }
   ],
   "source": [
    "#Set 3:\n",
    "mlp3=MLPClassifier(hidden_layer_sizes=75, activation='tanh',solver='sgd', alpha=0.001, max_iter=800, learning_rate_init=0.0001)\n",
    "mlp3.fit(train_x,train_y)\n",
    "mlp_pred3=mlp3.predict(test_x)\n",
    "pred=mlp3.predict(train_x)\n",
    "print(f\"test error {1-accuracy_score(test_y,mlp_pred3)}\")\n",
    "print(f'traininig error {1-accuracy_score(train_y,pred)}')"
   ]
  },
  {
   "cell_type": "code",
   "execution_count": 22,
   "id": "27d32e16",
   "metadata": {},
   "outputs": [
    {
     "name": "stdout",
     "output_type": "stream",
     "text": [
      "test error 0.21999999999999997\n",
      "traininig error 0.20059880239520955\n"
     ]
    }
   ],
   "source": [
    "#Set 4:\n",
    "mlp4=MLPClassifier(hidden_layer_sizes=90,activation='tanh',solver='adam',max_iter=1000, alpha=1, random_state=0)\n",
    "mlp4.fit(train_x,train_y)\n",
    "mlp_pred4=mlp4.predict(test_x)\n",
    "pred=mlp4.predict(train_x)\n",
    "print(f'test error {1-accuracy_score(test_y,mlp_pred4)}')\n",
    "print(f'traininig error {1-accuracy_score(train_y,pred)}')"
   ]
  },
  {
   "cell_type": "code",
   "execution_count": 23,
   "id": "e34d7663",
   "metadata": {},
   "outputs": [
    {
     "name": "stdout",
     "output_type": "stream",
     "text": [
      "test error 0.32999999999999996\n",
      "traininig error 0.31586826347305386\n"
     ]
    }
   ],
   "source": [
    "#Set 5:\n",
    "mlp5=MLPClassifier(hidden_layer_sizes=10,activation='identity',max_iter=900, alpha=1, random_state=0)\n",
    "mlp5.fit(train_x,train_y)\n",
    "mlp_pred5=mlp5.predict(test_x)\n",
    "pred=mlp5.predict(train_x)\n",
    "print(f'test error {1-accuracy_score(test_y,mlp_pred5)}')\n",
    "print(f'traininig error {1-accuracy_score(train_y,pred)}')"
   ]
  },
  {
   "cell_type": "markdown",
   "id": "2bb5df10",
   "metadata": {},
   "source": [
    "## Decision Trees"
   ]
  },
  {
   "cell_type": "code",
   "execution_count": 25,
   "id": "ed2f797c",
   "metadata": {},
   "outputs": [
    {
     "name": "stdout",
     "output_type": "stream",
     "text": [
      "test error 0.28\n",
      "traininig error 0.0\n"
     ]
    }
   ],
   "source": [
    "#Set 1:\n",
    "dt1=DecisionTreeClassifier( criterion='gini', splitter='best', max_depth=None, min_samples_split=2,  max_features=None, random_state=None, max_leaf_nodes=None)\n",
    "dt1.fit(train_x,train_y)\n",
    "dt_pred1=dt1.predict(test_x)\n",
    "pred=dt1.predict(train_x)\n",
    "print(f'test error {1-accuracy_score(test_y,dt_pred1)}')\n",
    "print(f'traininig error {1-accuracy_score(train_y,pred)}')"
   ]
  },
  {
   "cell_type": "code",
   "execution_count": 26,
   "id": "2496db7c",
   "metadata": {},
   "outputs": [
    {
     "name": "stdout",
     "output_type": "stream",
     "text": [
      "test error 0.31000000000000005\n",
      "traininig error 0.35029940119760483\n"
     ]
    }
   ],
   "source": [
    "#Set 2:\n",
    "dt2=DecisionTreeClassifier( criterion='entropy', splitter='random', max_depth=10, min_samples_split=5,  max_features=2, random_state=0, max_leaf_nodes=3)\n",
    "dt2.fit(train_x,train_y)\n",
    "dt_pred2=dt2.predict(test_x)\n",
    "pred=dt2.predict(train_x)\n",
    "print(f'test error {1-accuracy_score(test_y,dt_pred2)}')\n",
    "print(f'traininig error {1-accuracy_score(train_y,pred)}')"
   ]
  },
  {
   "cell_type": "code",
   "execution_count": 27,
   "id": "125a48b2",
   "metadata": {},
   "outputs": [
    {
     "name": "stdout",
     "output_type": "stream",
     "text": [
      "test error 0.25\n",
      "traininig error 0.19610778443113774\n"
     ]
    }
   ],
   "source": [
    "#Set 3:\n",
    "dt3=DecisionTreeClassifier( criterion='gini', splitter='random', max_depth=100, min_samples_split=20,  max_features=3, random_state=1, max_leaf_nodes=300)\n",
    "dt3.fit(train_x,train_y)\n",
    "dt_pred3=dt3.predict(test_x)\n",
    "pred=dt3.predict(train_x)\n",
    "\n",
    "print(f'test error {1-accuracy_score(test_y,dt_pred3)}')\n",
    "print(f'traininig error {1-accuracy_score(train_y,pred)}')"
   ]
  },
  {
   "cell_type": "code",
   "execution_count": 28,
   "id": "0f22f853",
   "metadata": {},
   "outputs": [
    {
     "name": "stdout",
     "output_type": "stream",
     "text": [
      "test error 0.28\n",
      "traininig error 0.25598802395209586\n"
     ]
    }
   ],
   "source": [
    "#Set 4:\n",
    "dt4=DecisionTreeClassifier( criterion='gini', splitter='best', max_depth=100, min_samples_split=200,  max_features=4, random_state=1, max_leaf_nodes=300)\n",
    "dt4.fit(train_x,train_y)\n",
    "dt_pred4=dt4.predict(test_x)\n",
    "pred=dt4.predict(train_x)\n",
    "print(f'test error {1-accuracy_score(test_y,dt_pred4)}')\n",
    "print(f'traininig error {1-accuracy_score(train_y,pred)}')"
   ]
  },
  {
   "cell_type": "code",
   "execution_count": 29,
   "id": "f2530b28",
   "metadata": {},
   "outputs": [
    {
     "name": "stdout",
     "output_type": "stream",
     "text": [
      "test error 0.26\n",
      "traininig error 0.3023952095808383\n"
     ]
    }
   ],
   "source": [
    "#Set 5:\n",
    "dt5=DecisionTreeClassifier( criterion='entropy', splitter='random', max_depth=400, min_samples_split=300,  max_features=5, random_state=1, max_leaf_nodes=300)\n",
    "dt5.fit(train_x,train_y)\n",
    "dt_pred5=dt5.predict(test_x)\n",
    "pred=dt5.predict(train_x)\n",
    "print(f'test error {1-accuracy_score(test_y,dt_pred5)}')\n",
    "print(f'traininig error {1-accuracy_score(train_y,pred)}')"
   ]
  },
  {
   "cell_type": "markdown",
   "id": "b7081626",
   "metadata": {},
   "source": [
    "## Random Forest"
   ]
  },
  {
   "cell_type": "code",
   "execution_count": 30,
   "id": "256893ef",
   "metadata": {},
   "outputs": [
    {
     "name": "stdout",
     "output_type": "stream",
     "text": [
      "test error 0.20999999999999996\n",
      "traininig error 0.0\n"
     ]
    }
   ],
   "source": [
    "#Set 1:\n",
    "rf1=RandomForestClassifier(n_estimators=100, criterion='gini', max_depth=None, min_samples_split=2, max_features='auto')\n",
    "rf1.fit(train_x,train_y)\n",
    "rf_pred1=rf1.predict(test_x)\n",
    "pred=rf1.predict(train_x)\n",
    "print(f'test error {1-accuracy_score(test_y,rf_pred1)}')\n",
    "print(f'traininig error {1-accuracy_score(train_y,pred)}')"
   ]
  },
  {
   "cell_type": "code",
   "execution_count": 31,
   "id": "e43ffb78",
   "metadata": {},
   "outputs": [
    {
     "name": "stdout",
     "output_type": "stream",
     "text": [
      "test error 0.18999999999999995\n",
      "traininig error 0.0029940119760478723\n"
     ]
    }
   ],
   "source": [
    "#Set 2:\n",
    "rf2=RandomForestClassifier(n_estimators=1000, criterion='entropy', max_depth=100, min_samples_split=5, max_features='auto')\n",
    "rf2.fit(train_x,train_y)\n",
    "rf_pred2=rf2.predict(test_x)\n",
    "pred=rf2.predict(train_x)\n",
    "print(f'test error {1-accuracy_score(test_y,rf_pred2)}')\n",
    "print(f'traininig error {1-accuracy_score(train_y,pred)}')"
   ]
  },
  {
   "cell_type": "code",
   "execution_count": 32,
   "id": "b00039db",
   "metadata": {},
   "outputs": [
    {
     "name": "stdout",
     "output_type": "stream",
     "text": [
      "test error 0.18000000000000005\n",
      "traininig error 0.10029940119760483\n"
     ]
    }
   ],
   "source": [
    "#Set 3:\n",
    "rf3=RandomForestClassifier(n_estimators=1000, criterion='entropy', max_depth=10, min_samples_split=20, max_features='sqrt')\n",
    "rf3.fit(train_x,train_y)\n",
    "rf_pred3=rf3.predict(test_x)\n",
    "pred=rf3.predict(train_x)\n",
    "print(f'test error {1-accuracy_score(test_y,rf_pred3)}')\n",
    "print(f'traininig error {1-accuracy_score(train_y,pred)}')"
   ]
  },
  {
   "cell_type": "code",
   "execution_count": 33,
   "id": "a5addb35",
   "metadata": {},
   "outputs": [
    {
     "name": "stdout",
     "output_type": "stream",
     "text": [
      "test error 0.22999999999999998\n",
      "traininig error 0.2065868263473054\n"
     ]
    }
   ],
   "source": [
    "#Set 4:\n",
    "rf4=RandomForestClassifier(n_estimators=10, criterion='gini', max_depth=5000, min_samples_split=100, max_features='log2')\n",
    "rf4.fit(train_x,train_y)\n",
    "rf_pred4=rf4.predict(test_x)\n",
    "pred=rf4.predict(train_x)\n",
    "print(f'test error {1-accuracy_score(test_y,rf_pred4)}')\n",
    "print(f'traininig error {1-accuracy_score(train_y,pred)}')"
   ]
  },
  {
   "cell_type": "code",
   "execution_count": 34,
   "id": "bc2bcd33",
   "metadata": {},
   "outputs": [
    {
     "name": "stdout",
     "output_type": "stream",
     "text": [
      "test error 0.18000000000000005\n",
      "traininig error 0.0014970059880239361\n"
     ]
    }
   ],
   "source": [
    "#Set 5:\n",
    "rf5=RandomForestClassifier(n_estimators=50, criterion='gini', max_depth=100, min_samples_split=2, max_features='auto')\n",
    "rf5.fit(train_x,train_y)\n",
    "rf_pred5=rf5.predict(test_x)\n",
    "pred=rf5.predict(train_x)\n",
    "print(f'test error {1-accuracy_score(test_y,rf_pred5)}')\n",
    "print(f'traininig error {1-accuracy_score(train_y,pred)}')"
   ]
  },
  {
   "cell_type": "markdown",
   "id": "c884e979",
   "metadata": {},
   "source": [
    "## Gradient boosting classifier "
   ]
  },
  {
   "cell_type": "code",
   "execution_count": 35,
   "id": "4d1dd997",
   "metadata": {},
   "outputs": [
    {
     "name": "stdout",
     "output_type": "stream",
     "text": [
      "test error 0.18999999999999995\n",
      "traininig error 0.08383233532934131\n"
     ]
    }
   ],
   "source": [
    "#Set 1:\n",
    "gb1=GradientBoostingClassifier(loss='deviance', learning_rate=0.1, n_estimators=100, subsample=1.0, criterion='friedman_mse', min_samples_split=2, min_samples_leaf=1)\n",
    "gb1.fit(train_x,train_y)\n",
    "gb_pred1=gb1.predict(test_x)\n",
    "pred=gb1.predict(train_x)\n",
    "print(f'test error {1-accuracy_score(test_y,gb_pred1)}')\n",
    "print(f'traininig error {1-accuracy_score(train_y,pred)}')"
   ]
  },
  {
   "cell_type": "code",
   "execution_count": 36,
   "id": "96ee493f",
   "metadata": {},
   "outputs": [
    {
     "name": "stdout",
     "output_type": "stream",
     "text": [
      "test error 0.20999999999999996\n",
      "traininig error 0.13323353293413176\n"
     ]
    }
   ],
   "source": [
    "##Set 2:\n",
    "gb2=GradientBoostingClassifier(loss='exponential', learning_rate=0.01, n_estimators=500, subsample=1.0, criterion='squared_error', min_samples_split=5, min_samples_leaf=5)\n",
    "gb2.fit(train_x,train_y)\n",
    "gb_pred2=gb2.predict(test_x)\n",
    "pred=gb2.predict(train_x)\n",
    "print(f'test error {1-accuracy_score(test_y,gb_pred2)}')\n",
    "print(f'traininig error {1-accuracy_score(train_y,pred)}')"
   ]
  },
  {
   "cell_type": "code",
   "execution_count": 37,
   "id": "281570c6",
   "metadata": {},
   "outputs": [
    {
     "name": "stderr",
     "output_type": "stream",
     "text": [
      "/Users/kothavinay/opt/anaconda3/lib/python3.9/site-packages/sklearn/ensemble/_gb.py:1284: FutureWarning: criterion='mae' was deprecated in version 0.24 and will be removed in version 1.1 (renaming of 0.26). Use criterion='friedman_mse' or 'squared_error' instead, as trees should use a squared error criterion in Gradient Boosting.\n",
      "  warnings.warn(\n"
     ]
    },
    {
     "name": "stdout",
     "output_type": "stream",
     "text": [
      "test error 0.19999999999999996\n",
      "traininig error 0.2425149700598802\n"
     ]
    }
   ],
   "source": [
    "##Set 3:\n",
    "gb3=GradientBoostingClassifier(loss='deviance', learning_rate=0.001, n_estimators=1000, subsample=1.0, criterion='absolute_error', min_samples_split=20, min_samples_leaf=5)\n",
    "gb3.fit(train_x,train_y)\n",
    "gb_pred3=gb3.predict(test_x)\n",
    "pred=gb3.predict(train_x)\n",
    "print(f'test error {1-accuracy_score(test_y,gb_pred3)}')\n",
    "print(f'traininig error {1-accuracy_score(train_y,pred)}')"
   ]
  },
  {
   "cell_type": "code",
   "execution_count": 39,
   "id": "112c7ca3",
   "metadata": {},
   "outputs": [
    {
     "name": "stdout",
     "output_type": "stream",
     "text": [
      "test error 0.31000000000000005\n",
      "traininig error 0.35479041916167664\n"
     ]
    }
   ],
   "source": [
    "#Set 4:\n",
    "gb4=GradientBoostingClassifier(loss='exponential', learning_rate=0.01, n_estimators=10, subsample=1.0, criterion='squared_error', min_samples_split=22, min_samples_leaf=93)\n",
    "gb4.fit(train_x,train_y)\n",
    "gb_pred4=gb4.predict(test_x)\n",
    "pred=gb4.predict(train_x)\n",
    "print(f'test error {1-accuracy_score(test_y,gb_pred4)}')\n",
    "print(f'traininig error {1-accuracy_score(train_y,pred)}')"
   ]
  },
  {
   "cell_type": "code",
   "execution_count": 40,
   "id": "3a24b80e",
   "metadata": {},
   "outputs": [
    {
     "name": "stderr",
     "output_type": "stream",
     "text": [
      "/Users/kothavinay/opt/anaconda3/lib/python3.9/site-packages/sklearn/ensemble/_gb.py:1284: FutureWarning: criterion='mae' was deprecated in version 0.24 and will be removed in version 1.1 (renaming of 0.26). Use criterion='friedman_mse' or 'squared_error' instead, as trees should use a squared error criterion in Gradient Boosting.\n",
      "  warnings.warn(\n"
     ]
    },
    {
     "name": "stdout",
     "output_type": "stream",
     "text": [
      "test error 0.31000000000000005\n",
      "traininig error 0.35479041916167664\n"
     ]
    }
   ],
   "source": [
    "#Set 5:\n",
    "gb5=GradientBoostingClassifier(loss='deviance', learning_rate=0.01, n_estimators=50, subsample=1.0, criterion='absolute_error', min_samples_split=90, min_samples_leaf=44)\n",
    "gb5.fit(train_x,train_y)\n",
    "gb_pred5=gb5.predict(test_x)\n",
    "pred=gb5.predict(train_x)\n",
    "print(f'test error {1-accuracy_score(test_y,gb_pred5)}')\n",
    "print(f'traininig error {1-accuracy_score(train_y,pred)}')"
   ]
  },
  {
   "cell_type": "markdown",
   "id": "fb043809",
   "metadata": {},
   "source": [
    "## With equal weight to each classifier, i.e. 1/4*g1+1/4*g2+1/4*g3+1/4*g4"
   ]
  },
  {
   "cell_type": "code",
   "execution_count": 42,
   "id": "72652098",
   "metadata": {},
   "outputs": [
    {
     "name": "stdout",
     "output_type": "stream",
     "text": [
      "Training Error: 0.30 [Multilayer perceptron]\n"
     ]
    },
    {
     "name": "stderr",
     "output_type": "stream",
     "text": [
      "/Users/kothavinay/opt/anaconda3/lib/python3.9/site-packages/sklearn/neural_network/_multilayer_perceptron.py:692: ConvergenceWarning: Stochastic Optimizer: Maximum iterations (500) reached and the optimization hasn't converged yet.\n",
      "  warnings.warn(\n",
      "/Users/kothavinay/opt/anaconda3/lib/python3.9/site-packages/sklearn/neural_network/_multilayer_perceptron.py:692: ConvergenceWarning: Stochastic Optimizer: Maximum iterations (500) reached and the optimization hasn't converged yet.\n",
      "  warnings.warn(\n",
      "/Users/kothavinay/opt/anaconda3/lib/python3.9/site-packages/sklearn/neural_network/_multilayer_perceptron.py:692: ConvergenceWarning: Stochastic Optimizer: Maximum iterations (500) reached and the optimization hasn't converged yet.\n",
      "  warnings.warn(\n"
     ]
    },
    {
     "name": "stdout",
     "output_type": "stream",
     "text": [
      "Testing Error: 0.29 [Multilayer perceptron]\n",
      "Training Error: 0.29 [decision tree]\n",
      "Testing Error: 0.25 [decision tree]\n",
      "Training Error: 0.24 [random forest]\n",
      "Testing Error: 0.28 [random forest]\n",
      "Training Error: 0.25 [gradient Boost]\n",
      "Testing Error: 0.28 [gradient Boost]\n",
      "Training Error: 0.24 [Ensemble]\n"
     ]
    },
    {
     "name": "stderr",
     "output_type": "stream",
     "text": [
      "/Users/kothavinay/opt/anaconda3/lib/python3.9/site-packages/sklearn/neural_network/_multilayer_perceptron.py:692: ConvergenceWarning: Stochastic Optimizer: Maximum iterations (500) reached and the optimization hasn't converged yet.\n",
      "  warnings.warn(\n",
      "/Users/kothavinay/opt/anaconda3/lib/python3.9/site-packages/sklearn/neural_network/_multilayer_perceptron.py:692: ConvergenceWarning: Stochastic Optimizer: Maximum iterations (500) reached and the optimization hasn't converged yet.\n",
      "  warnings.warn(\n",
      "/Users/kothavinay/opt/anaconda3/lib/python3.9/site-packages/sklearn/neural_network/_multilayer_perceptron.py:692: ConvergenceWarning: Stochastic Optimizer: Maximum iterations (500) reached and the optimization hasn't converged yet.\n",
      "  warnings.warn(\n",
      "/Users/kothavinay/opt/anaconda3/lib/python3.9/site-packages/sklearn/neural_network/_multilayer_perceptron.py:692: ConvergenceWarning: Stochastic Optimizer: Maximum iterations (500) reached and the optimization hasn't converged yet.\n",
      "  warnings.warn(\n",
      "/Users/kothavinay/opt/anaconda3/lib/python3.9/site-packages/sklearn/neural_network/_multilayer_perceptron.py:692: ConvergenceWarning: Stochastic Optimizer: Maximum iterations (500) reached and the optimization hasn't converged yet.\n",
      "  warnings.warn(\n"
     ]
    },
    {
     "name": "stdout",
     "output_type": "stream",
     "text": [
      "Testing Error: 0.27 [Ensemble]\n"
     ]
    }
   ],
   "source": [
    "eclf = VotingClassifier(\n",
    "...     estimators=[('mlp', mlp1), ('dt',dt3 ), ('rf',rf3),('gb', gb1)],\n",
    "...     voting='hard',weights=[1, 1, 1,1])\n",
    "\n",
    "for clf, label in zip([mlp1,dt3,rf3,gb1,eclf], ['Multilayer perceptron','decision tree','random forest','gradient Boost','Ensemble']):\n",
    "    \n",
    "    scores = cross_val_score(clf, train_x, train_y, scoring='accuracy', cv=5)\n",
    "    print(\"Training Error: %0.2f [%s]\" % (1-scores.mean(),label))\n",
    "        \n",
    "    scores_test = cross_val_score(clf, test_x, test_y, scoring='accuracy', cv=5)\n",
    "    print(\"Testing Error: %0.2f [%s]\" % (1-scores_test.mean(),label))\n",
    "   "
   ]
  },
  {
   "cell_type": "markdown",
   "id": "38dc4f24",
   "metadata": {},
   "source": [
    "## b) With weights proportional to 1/(1+trainingerror)"
   ]
  },
  {
   "cell_type": "code",
   "execution_count": 43,
   "id": "ad88700e",
   "metadata": {},
   "outputs": [],
   "source": [
    "mlp_pred=mlp1.predict(train_x)\n",
    "dt_pred=dt3.predict(train_x)\n",
    "gb_pred=gb1.predict(train_x)\n",
    "rf_pred=rf3.predict(train_x)"
   ]
  },
  {
   "cell_type": "code",
   "execution_count": 44,
   "id": "9de54f6b",
   "metadata": {},
   "outputs": [
    {
     "name": "stdout",
     "output_type": "stream",
     "text": [
      "0.2529940119760479\n",
      "0.19610778443113774\n",
      "0.08383233532934131\n",
      "0.10029940119760483\n"
     ]
    }
   ],
   "source": [
    "mlp_error=1-accuracy_score(train_y,mlp_pred)\n",
    "dt_error=1-accuracy_score(train_y,dt_pred)\n",
    "gb_error=1-accuracy_score(train_y,gb_pred)\n",
    "rf_error=1-accuracy_score(train_y,rf_pred)\n",
    "print(mlp_error)\n",
    "print(dt_error)\n",
    "print(gb_error)\n",
    "print(rf_error)"
   ]
  },
  {
   "cell_type": "code",
   "execution_count": 45,
   "id": "838f2750",
   "metadata": {},
   "outputs": [
    {
     "name": "stdout",
     "output_type": "stream",
     "text": [
      "Training Error: 0.32  [Multilayer perceptron]\n",
      "Testing Error: 0.24 [Multilayer perceptron]\n",
      "\n",
      "\n",
      "Training Error: 0.29  [Decision Tree]\n",
      "Testing Error: 0.31 [Decision Tree]\n",
      "\n",
      "\n",
      "Training Error: 0.24  [random forest]\n",
      "Testing Error: 0.28 [random forest]\n",
      "\n",
      "\n",
      "Training Error: 0.24  [gradient Boosting]\n",
      "Testing Error: 0.27 [gradient Boosting]\n",
      "\n",
      "\n",
      "Training Error: 0.25  [Ensemble]\n"
     ]
    },
    {
     "name": "stderr",
     "output_type": "stream",
     "text": [
      "/Users/kothavinay/opt/anaconda3/lib/python3.9/site-packages/sklearn/neural_network/_multilayer_perceptron.py:692: ConvergenceWarning: Stochastic Optimizer: Maximum iterations (500) reached and the optimization hasn't converged yet.\n",
      "  warnings.warn(\n",
      "/Users/kothavinay/opt/anaconda3/lib/python3.9/site-packages/sklearn/neural_network/_multilayer_perceptron.py:692: ConvergenceWarning: Stochastic Optimizer: Maximum iterations (500) reached and the optimization hasn't converged yet.\n",
      "  warnings.warn(\n",
      "/Users/kothavinay/opt/anaconda3/lib/python3.9/site-packages/sklearn/neural_network/_multilayer_perceptron.py:692: ConvergenceWarning: Stochastic Optimizer: Maximum iterations (500) reached and the optimization hasn't converged yet.\n",
      "  warnings.warn(\n"
     ]
    },
    {
     "name": "stdout",
     "output_type": "stream",
     "text": [
      "Testing Error: 0.26 [Ensemble]\n",
      "\n",
      "\n"
     ]
    }
   ],
   "source": [
    "eclf = VotingClassifier(\n",
    "...     estimators=[('mlp', mlp1), ('dt',dt3 ),('rf',rf3), ('gb', gb1)],\n",
    "...     voting='hard',weights=[1/(1+mlp_error), 1/(1+dt_error),1/(1+rf_error) ,1/(1+gb_error)])\n",
    "for clf, label in zip([mlp5, dt4, gb2,rf5, eclf], ['Multilayer perceptron', 'Decision Tree','random forest', 'gradient Boosting', 'Ensemble']):\n",
    "...     scores = cross_val_score(clf, train_x, train_y, scoring='accuracy', cv=5)\n",
    "...     print(\"Training Error: %0.2f  [%s]\" % (1-scores.mean(), label))\n",
    "        \n",
    "    scores_test = cross_val_score(clf, test_x, test_y, scoring='accuracy', cv=5)\n",
    "    print(\"Testing Error: %0.2f [%s]\" % (1-scores_test.mean(),label))\n",
    "    print(\"\\n\")\n",
    "   "
   ]
  },
  {
   "cell_type": "markdown",
   "id": "9fe2d7d0",
   "metadata": {},
   "source": [
    "# Results and Conclusion"
   ]
  },
  {
   "cell_type": "markdown",
   "id": "a2392f8a",
   "metadata": {},
   "source": [
    "After utilizing all of these patient records, we were able to create the best machine learning model by giving weightage according to its accuracy and which properly predicts whether or not the patients in the dataset have diabetes. We were also able to gain some insights from the data through data analysis and visualization.\n",
    "\n",
    "Our analysis, visualzation as well as the machine learning model is created to support the research question and hypothesis.But after all the analysis, we can conclude that the patient who suffer from diabetes have following characteristics than those who do not suffer.\n",
    "\n",
    "They are older\n",
    "\n",
    "They have high glucose level\n",
    "\n",
    "They have high blood pressure\n",
    "\n",
    "They have high bmi\n",
    "\n",
    "They have high diabetes pedigree function"
   ]
  }
 ],
 "metadata": {
  "kernelspec": {
   "display_name": "Python 3 (ipykernel)",
   "language": "python",
   "name": "python3"
  },
  "language_info": {
   "codemirror_mode": {
    "name": "ipython",
    "version": 3
   },
   "file_extension": ".py",
   "mimetype": "text/x-python",
   "name": "python",
   "nbconvert_exporter": "python",
   "pygments_lexer": "ipython3",
   "version": "3.9.12"
  }
 },
 "nbformat": 4,
 "nbformat_minor": 5
}
